{
 "cells": [
  {
   "cell_type": "markdown",
   "id": "1be90129",
   "metadata": {},
   "source": [
    "## Code Implementation of Annova test(f-test) "
   ]
  },
  {
   "cell_type": "code",
   "execution_count": null,
   "id": "14ac77b2",
   "metadata": {
    "vscode": {
     "languageId": "plaintext"
    }
   },
   "outputs": [],
   "source": []
  },
  {
   "cell_type": "code",
   "execution_count": null,
   "id": "3f02689b",
   "metadata": {
    "vscode": {
     "languageId": "plaintext"
    }
   },
   "outputs": [],
   "source": []
  },
  {
   "cell_type": "markdown",
   "id": "ab638bcf",
   "metadata": {},
   "source": []
  }
 ],
 "metadata": {
  "language_info": {
   "name": "python"
  }
 },
 "nbformat": 4,
 "nbformat_minor": 5
}
