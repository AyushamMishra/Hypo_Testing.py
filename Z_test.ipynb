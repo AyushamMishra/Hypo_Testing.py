{
 "cells": [
  {
   "cell_type": "markdown",
   "id": "60e7d8e4",
   "metadata": {},
   "source": [
    "## Z Test code implementation "
   ]
  },
  {
   "cell_type": "code",
   "execution_count": 6,
   "id": "b7dfd0ba",
   "metadata": {},
   "outputs": [],
   "source": [
    "import numpy as np\n",
    "from scipy.stats import norm "
   ]
  },
  {
   "cell_type": "code",
   "execution_count": 7,
   "id": "b774df20",
   "metadata": {},
   "outputs": [],
   "source": [
    "sample=[174,172,168,169,171,173,170,175,169,172,174,171,170,168,169,172,173,174,175,171,170,169,168,172,173,174,171,170,169,168]\n",
    "sample_mean=np.mean(sample)\n",
    "population_mean=170\n",
    "pop_std=3\n",
    "n=len(sample) "
   ]
  },
  {
   "cell_type": "markdown",
   "id": "261fd0b7",
   "metadata": {},
   "source": [
    "finding the Z score "
   ]
  },
  {
   "cell_type": "code",
   "execution_count": 8,
   "id": "bd502b5a",
   "metadata": {},
   "outputs": [
    {
     "data": {
      "text/plain": [
       "np.float64(2.069174106130614)"
      ]
     },
     "execution_count": 8,
     "metadata": {},
     "output_type": "execute_result"
    }
   ],
   "source": [
    "z_score=(sample_mean-population_mean)/(pop_std/np.sqrt(n))\n",
    "z_score"
   ]
  },
  {
   "cell_type": "markdown",
   "id": "faf7c097",
   "metadata": {},
   "source": [
    "Calculating the p value"
   ]
  },
  {
   "cell_type": "code",
   "execution_count": 10,
   "id": "306a3435",
   "metadata": {},
   "outputs": [
    {
     "data": {
      "text/plain": [
       "np.float64(0.0385297516499159)"
      ]
     },
     "execution_count": 10,
     "metadata": {},
     "output_type": "execute_result"
    }
   ],
   "source": [
    "p_value=2*(1-norm.cdf(abs(z_score)))\n",
    "p_value"
   ]
  },
  {
   "cell_type": "code",
   "execution_count": 12,
   "id": "cf9f6ddc",
   "metadata": {},
   "outputs": [
    {
     "name": "stdout",
     "output_type": "stream",
     "text": [
      "Reject the null hypothesis. There is enough evidence to suggest that the sample mean is significantly different from the population mean.\n"
     ]
    }
   ],
   "source": [
    "alpha=0.05\n",
    "if p_value<alpha:\n",
    "    print(\"Reject the null hypothesis. There is enough evidence to suggest that the sample mean is significantly different from the population mean.\"\n",
    "    )\n",
    "\n",
    "else:\n",
    "    print(\"The null hypothesis is accepted. There is not enough evidence to suggest that the sample mean is significantly different from the population mean.\"\n",
    "    )"
   ]
  }
 ],
 "metadata": {
  "kernelspec": {
   "display_name": "Python 3",
   "language": "python",
   "name": "python3"
  },
  "language_info": {
   "codemirror_mode": {
    "name": "ipython",
    "version": 3
   },
   "file_extension": ".py",
   "mimetype": "text/x-python",
   "name": "python",
   "nbconvert_exporter": "python",
   "pygments_lexer": "ipython3",
   "version": "3.13.7"
  }
 },
 "nbformat": 4,
 "nbformat_minor": 5
}
