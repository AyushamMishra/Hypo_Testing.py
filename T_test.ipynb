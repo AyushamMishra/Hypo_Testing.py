{
 "cells": [
  {
   "cell_type": "markdown",
   "id": "c6ef2f25",
   "metadata": {},
   "source": [
    "## T test code implementation"
   ]
  },
  {
   "cell_type": "code",
   "execution_count": 1,
   "id": "738682e4",
   "metadata": {},
   "outputs": [],
   "source": [
    "import numpy as np\n",
    "from scipy import stats\n"
   ]
  },
  {
   "cell_type": "code",
   "execution_count": 2,
   "id": "865fc5e2",
   "metadata": {},
   "outputs": [],
   "source": [
    "sample=[45, 50, 55, 60, 65, 70, 75, 80, 85, 90]\n",
    "sample_mean=np.mean(sample)\n",
    "pop_mean=70\n",
    "sample_std=np.std(sample,ddof=1)\n",
    "n=len(sample)\n",
    "df=n-1"
   ]
  },
  {
   "cell_type": "code",
   "execution_count": 3,
   "id": "ba54b872",
   "metadata": {},
   "outputs": [
    {
     "data": {
      "text/plain": [
       "np.float64(-0.5222329678670936)"
      ]
     },
     "execution_count": 3,
     "metadata": {},
     "output_type": "execute_result"
    }
   ],
   "source": [
    "t_stats=(sample_mean-pop_mean)/(sample_std/np.sqrt(n))\n",
    "t_stats"
   ]
  },
  {
   "cell_type": "code",
   "execution_count": 6,
   "id": "416b4b75",
   "metadata": {},
   "outputs": [
    {
     "data": {
      "text/plain": [
       "np.float64(0.6141172548083937)"
      ]
     },
     "execution_count": 6,
     "metadata": {},
     "output_type": "execute_result"
    }
   ],
   "source": [
    "p_value=2*(1-stats.t.cdf(abs(t_stats),df=n-1))\n",
    "p_value"
   ]
  },
  {
   "cell_type": "code",
   "execution_count": null,
   "id": "463edaf9",
   "metadata": {},
   "outputs": [],
   "source": []
  },
  {
   "cell_type": "code",
   "execution_count": 9,
   "id": "816c453c",
   "metadata": {},
   "outputs": [
    {
     "name": "stdout",
     "output_type": "stream",
     "text": [
      "The null hypothesis is accepted. There is not enough evidence to suggest that the sample mean is significantly different from the population mean.\n"
     ]
    }
   ],
   "source": [
    "alpha=0.05\n",
    "if p_value<alpha:\n",
    "    print(\"Reject the null hypothesis. There is enough evidence to sugest that the sample mean is significantly different from the population mean.\")\n",
    "else:\n",
    "    print(\"The null hypothesis is accepted. There is not enough evidence to suggest that the sample mean is significantly different from the population mean.\")\n"
   ]
  },
  {
   "cell_type": "markdown",
   "id": "322b250e",
   "metadata": {},
   "source": [
    "## Code implementation for two sample T test "
   ]
  },
  {
   "cell_type": "code",
   "execution_count": 10,
   "id": "9e097406",
   "metadata": {},
   "outputs": [],
   "source": [
    "import numpy as np\n",
    "from scipy import stats"
   ]
  },
  {
   "cell_type": "code",
   "execution_count": 11,
   "id": "8c71c043",
   "metadata": {},
   "outputs": [],
   "source": [
    "group1=[45, 50, 55, 60, 65, 70, 75, 80, 85, 90]\n",
    "group2=[50, 55, 60, 65, 70, 75, 80, 85, 90, 95]"
   ]
  },
  {
   "cell_type": "markdown",
   "id": "453046fd",
   "metadata": {},
   "source": [
    "Scipy has built in function for two sample t test"
   ]
  },
  {
   "cell_type": "code",
   "execution_count": null,
   "id": "e6170aff",
   "metadata": {},
   "outputs": [],
   "source": [
    "t_stats,p_value=stats.ttest_ind(group1,group2,equal_var=False)"
   ]
  },
  {
   "cell_type": "code",
   "execution_count": 14,
   "id": "ef43c6e1",
   "metadata": {},
   "outputs": [
    {
     "name": "stdout",
     "output_type": "stream",
     "text": [
      "The null hypothesis is accepted. There is not enough evidence to suggest that the two group means are significantly different.\n"
     ]
    }
   ],
   "source": [
    "alpha=0.05\n",
    "if p_value<alpha:\n",
    "    print(\"Reject the null hypothesis. There is enough evidence to suggest that the two group means are significantly different.\")\n",
    "else:\n",
    "    print(\"The null hypothesis is accepted. There is not enough evidence to suggest that the two group means are significantly different.\")"
   ]
  }
 ],
 "metadata": {
  "kernelspec": {
   "display_name": "Python 3",
   "language": "python",
   "name": "python3"
  },
  "language_info": {
   "codemirror_mode": {
    "name": "ipython",
    "version": 3
   },
   "file_extension": ".py",
   "mimetype": "text/x-python",
   "name": "python",
   "nbconvert_exporter": "python",
   "pygments_lexer": "ipython3",
   "version": "3.13.7"
  }
 },
 "nbformat": 4,
 "nbformat_minor": 5
}
